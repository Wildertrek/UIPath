{
 "cells": [
  {
   "cell_type": "markdown",
   "id": "54223dd8-19ea-45cb-a634-75b9a23896c5",
   "metadata": {},
   "source": [
    "# UIPath Lesson 3"
   ]
  },
  {
   "cell_type": "markdown",
   "id": "a5f9c82f-771f-4d4f-b6f8-553642f5190c",
   "metadata": {},
   "source": [
    "### Table of Contents <a class=\"anchor\" id=\"UIPathL3_toc\"></a>\n",
    "\n",
    "* [Table of Contents](#UIPathL3_toc)\n",
    "    * [Page 1 - Overview and Objectives](#UIPathL3_page_1)\n",
    "    * [Page 2 - ](#UIPathL3_page_2)\n",
    "    * [Page 3 - ](#UIPathL3_page_3)\n",
    "    * [Page 4 - ](#UIPathL3_page_4)\n",
    "    * [Page 5 - ](#UIPathL3_page_5)\n",
    "    * [Page 6 - ](#UIPathL3_page_6)\n",
    "    * [Page 7 - ](#UIPathL3_page_7)\n",
    "    * [Page 8 - ](#UIPathL3_page_8)\n",
    "    * [Page 9 - ](#UIPathL3_page_9)"
   ]
  },
  {
   "cell_type": "markdown",
   "id": "e8d57d7c-d121-4788-8a49-6875ba4d9a49",
   "metadata": {},
   "source": [
    "<hr style=\"height:10px;border-width:0;color:gray;background-color:gray\">\n",
    "\n",
    "# Page 1 - Overview of this Module<a class=\"anchor\" id=\"UIPathL3_page_1\"></a>\n",
    "\n",
    "[Back to Top](#UIPathL3_toc)\n",
    "\n",
    "<hr style=\"height:10px;border-width:0;color:gray;background-color:gray\">"
   ]
  },
  {
   "cell_type": "markdown",
   "id": "4f0a3071-3ab6-4c60-bdf4-7308f7890aee",
   "metadata": {},
   "source": [
    "<hr style=\"height:10px;border-width:0;color:gray;background-color:gray\">\n",
    "\n",
    "# Page 2 - <a class=\"anchor\" id=\"UIPathL3_page_2\"></a>\n",
    "\n",
    "[Back to Top](#UIPathL3_toc)\n",
    "\n",
    "<hr style=\"height:10px;border-width:0;color:gray;background-color:gray\">"
   ]
  },
  {
   "cell_type": "markdown",
   "id": "d03a0a51-4a9f-426c-b544-7de6433b5af4",
   "metadata": {},
   "source": [
    "<hr style=\"height:10px;border-width:0;color:gray;background-color:gray\">\n",
    "\n",
    "# Page 3 - <a class=\"anchor\" id=\"UIPathL3_page_3\"></a>\n",
    "\n",
    "[Back to Top](#UIPathL3_toc)\n",
    "\n",
    "<hr style=\"height:10px;border-width:0;color:gray;background-color:gray\">"
   ]
  },
  {
   "cell_type": "markdown",
   "id": "89c43e4c-e0a4-4aef-9ff7-e335b41531ee",
   "metadata": {},
   "source": [
    "<hr style=\"height:10px;border-width:0;color:gray;background-color:gray\">\n",
    "\n",
    "# Page 4 - <a class=\"anchor\" id=\"UIPathL3_page_4\"></a>\n",
    "\n",
    "[Back to Top](#UIPathL3_toc)\n",
    "\n",
    "<hr style=\"height:10px;border-width:0;color:gray;background-color:gray\">"
   ]
  },
  {
   "cell_type": "markdown",
   "id": "49a49b35-4402-4a53-84f9-7876547aa208",
   "metadata": {},
   "source": [
    "<hr style=\"height:10px;border-width:0;color:gray;background-color:gray\">\n",
    "\n",
    "# Page 5 - <a class=\"anchor\" id=\"UIPathL3_page_5\"></a>\n",
    "\n",
    "[Back to Top](#UIPathL3_toc)\n",
    "\n",
    "<hr style=\"height:10px;border-width:0;color:gray;background-color:gray\">"
   ]
  },
  {
   "cell_type": "markdown",
   "id": "066cc647-e1fc-437a-8b81-f5f6ddf142a2",
   "metadata": {},
   "source": [
    "<hr style=\"height:10px;border-width:0;color:gray;background-color:gray\">\n",
    "\n",
    "# Page 6 - <a class=\"anchor\" id=\"UIPathL3_page_6\"></a>\n",
    "\n",
    "[Back to Top](#UIPathL3_toc)\n",
    "\n",
    "<hr style=\"height:10px;border-width:0;color:gray;background-color:gray\">"
   ]
  },
  {
   "cell_type": "markdown",
   "id": "75e2ea93-a950-4816-b7e6-66b82e0444fc",
   "metadata": {},
   "source": [
    "<hr style=\"height:10px;border-width:0;color:gray;background-color:gray\">\n",
    "\n",
    "# Page 7 - <a class=\"anchor\" id=\"UIPathL3_page_7\"></a>\n",
    "\n",
    "[Back to Top](#UIPathL3_toc)\n",
    "\n",
    "<hr style=\"height:10px;border-width:0;color:gray;background-color:gray\">"
   ]
  },
  {
   "cell_type": "markdown",
   "id": "0ffa8f06-edc3-4fbf-a60c-ca9ba682d9a9",
   "metadata": {},
   "source": [
    "<hr style=\"height:10px;border-width:0;color:gray;background-color:gray\">\n",
    "\n",
    "# Page 8 - <a class=\"anchor\" id=\"UIPathL3_page_8\"></a>\n",
    "\n",
    "[Back to Top](#UIPathL3_toc)\n",
    "\n",
    "<hr style=\"height:10px;border-width:0;color:gray;background-color:gray\">"
   ]
  },
  {
   "cell_type": "markdown",
   "id": "bf564515-91c5-49f5-97d4-20dd2b134f74",
   "metadata": {},
   "source": [
    "<hr style=\"height:10px;border-width:0;color:gray;background-color:gray\">\n",
    "\n",
    "# Page 9 - <a class=\"anchor\" id=\"UIPathL3_page_9\"></a>\n",
    "\n",
    "[Back to Top](#UIPathL3_toc)\n",
    "\n",
    "<hr style=\"height:10px;border-width:0;color:gray;background-color:gray\">"
   ]
  }
 ],
 "metadata": {
  "kernelspec": {
   "display_name": "Python 3 (ipykernel)",
   "language": "python",
   "name": "python3"
  },
  "language_info": {
   "codemirror_mode": {
    "name": "ipython",
    "version": 3
   },
   "file_extension": ".py",
   "mimetype": "text/x-python",
   "name": "python",
   "nbconvert_exporter": "python",
   "pygments_lexer": "ipython3",
   "version": "3.9.7"
  }
 },
 "nbformat": 4,
 "nbformat_minor": 5
}
