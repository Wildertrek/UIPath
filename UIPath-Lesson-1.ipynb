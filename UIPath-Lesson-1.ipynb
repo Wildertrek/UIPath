{
 "cells": [
  {
   "cell_type": "markdown",
   "id": "54223dd8-19ea-45cb-a634-75b9a23896c5",
   "metadata": {},
   "source": [
    "# UIPath Lesson 1 Introducing RPA"
   ]
  },
  {
   "cell_type": "markdown",
   "id": "a5f9c82f-771f-4d4f-b6f8-553642f5190c",
   "metadata": {},
   "source": [
    "### Table of Contents <a class=\"anchor\" id=\"UIPathL1_toc\"></a>\n",
    "\n",
    "* [Table of Contents](#UIPathL1_toc)\n",
    "    * [Page 1 - What Is RPA? What Is Automation?](#UIPathL1_page_1)\n",
    "    * [Page 2 - What is UIPath](#UIPathL1_page_2)\n",
    "    * [Page 3 - ](#UIPathL1_page_3)\n",
    "    * [Page 4 - ](#UIPathL1_page_4)\n",
    "    * [Page 5 - ](#UIPathL1_page_5)\n",
    "    * [Page 6 - ](#UIPathL1_page_6)\n",
    "    * [Page 7 - ](#UIPathL1_page_7)\n",
    "    * [Page 8 - ](#UIPathL1_page_8)\n",
    "    * [Page 9 - ](#UIPathL1_page_9)"
   ]
  },
  {
   "cell_type": "markdown",
   "id": "e8d57d7c-d121-4788-8a49-6875ba4d9a49",
   "metadata": {},
   "source": [
    "<hr style=\"height:10px;border-width:0;color:gray;background-color:gray\">\n",
    "\n",
    "# Page 1 - What Is RPA? What Is Automation?<a class=\"anchor\" id=\"UIPathL1_page_1\"></a>\n",
    "\n",
    "[Back to Top](#UIPathL1_toc)\n",
    "\n",
    "<hr style=\"height:10px;border-width:0;color:gray;background-color:gray\">"
   ]
  },
  {
   "cell_type": "markdown",
   "id": "45872eb3-68ff-454c-9804-5a0e9789244f",
   "metadata": {},
   "source": [
    "At the end of this lesson, you should be able to:\n",
    "\n",
    "- Challenge common biases about RPA, automation, and digital transformation in general.\n",
    "- Explain what RPA is.\n",
    "- Describe how humans and robots can work together."
   ]
  },
  {
   "cell_type": "markdown",
   "id": "22cd7627-67ac-4194-b697-859839f4b6ff",
   "metadata": {},
   "source": [
    "The world is changing now at a faster pace than ever.\n",
    "\n",
    "Two overused expressions that describe today’s context are VUCA (Volatility, Uncertainty, Complexity, Ambiguity) and digital transformation.\n",
    "\n",
    "But what do they really mean? Change, transformation, ambiguity - these are anxiety feeding words. The result? Myths and misconceptions. Implementing RPA is a business transformation, a change in the processes, and an ambiguous affair. Naturally, myths have followed.\n",
    "\n",
    "In this lesson, we’ll turn the spotlight on some of the most common myths about RPA and digital transformation. "
   ]
  },
  {
   "cell_type": "markdown",
   "id": "c8c1ee6f-92ee-4729-94e2-b70fd46968ad",
   "metadata": {},
   "source": [
    "## What is RPA? What is automation?\n",
    "\n",
    "RPA (Robotic Process Automation) is the technology that enables software 'robots' to carry out repetitive, rule-based digital tasks. Humans typically perform these tasks through the user interface, using the mouse and keyboard. RPA robots are capable of mimicking the human actions, and they are typically more accurate, faster, and more consistent at it.\n",
    "\n",
    "Combined with Artificial Intelligence (AI), RPA can target more sophisticated work. This opens up endless possibilities on the path towards the fully automated enterprise™️.\n",
    "\n",
    "Automation is a term that describes more accurately these possibilities that exceed the sphere of basic RPA. Sometimes we use these two terms interchangeably, given that RPA is still at the core of automation."
   ]
  },
  {
   "cell_type": "markdown",
   "id": "c3e0d45a-095d-44e0-a7f1-ae244e693b36",
   "metadata": {},
   "source": [
    "## RPA is the technology that...\n",
    "\n",
    "allows computer software to mimic actions typically performed by humans. These actions are mostly interactions with digital systems and are carried out within business processes. \n",
    "\n",
    "\n",
    "\n",
    "<p style=\"text-align: center;\">\n",
    "  <img width=\"600\" alt=\"flying bot\" src=\"Media/2D_NOPROCESS.png\">\n",
    "</p>\n",
    "\n",
    "The computer software that executes the operations is called a Robot. The RPA robots can:\n",
    "\n",
    "- Extract structured data from documents,\n",
    "- Log into and run applications,\n",
    "- Open emails and attachments,\n",
    "- Fill in forms,\n",
    "- Read and write to databases,\n",
    "- Make calculations,\n",
    "- Connect to other systems,\n",
    "- and much more. The robots interact with data and applications just as human workers do, using the mouse, the keyboard, and the User Interfaces.\n",
    "\n",
    "\n",
    "\n",
    "What do all the above examples have in common? \n",
    "\n",
    "RPA primarily targets processes that are highly manual, repetitive, rule-based, and have a low exception rate and a standard electronic readable input.\n",
    "\n",
    "The human gets to keep the high-level activities for themselves: face-to-face interactions or coming up with complex strategies. They can be dedicated to the things that make them irreplaceable.\n",
    "\n",
    "Depending on the automation scenario, the work done in tandem by humans and robots can be described as:\n",
    "\n",
    "- **On-demand** - the human user manually triggers the robot when needed, to execute part or a full business process.\n",
    "- **Side-by-side** - robots work behind the scenes while the human user maintains control of the mouse and keyboard.\n",
    "- **Interactive** - the user engages with robots before, during and/or after the execution.\n",
    "- **Always-on** - robots start processes automatically as the user goes about their day.\n",
    "- **Interconnected** - a coordinated collection of processes run and react to each other, with humans and robots exchanging inputs.\n"
   ]
  },
  {
   "cell_type": "markdown",
   "id": "4f0a3071-3ab6-4c60-bdf4-7308f7890aee",
   "metadata": {},
   "source": [
    "<hr style=\"height:10px;border-width:0;color:gray;background-color:gray\">\n",
    "\n",
    "# Page 2 - <a class=\"anchor\" id=\"UIPathL1_page_2\"></a>\n",
    "\n",
    "[Back to Top](#UIPathL1_toc)\n",
    "\n",
    "<hr style=\"height:10px;border-width:0;color:gray;background-color:gray\">"
   ]
  },
  {
   "cell_type": "markdown",
   "id": "d03a0a51-4a9f-426c-b544-7de6433b5af4",
   "metadata": {},
   "source": [
    "<hr style=\"height:10px;border-width:0;color:gray;background-color:gray\">\n",
    "\n",
    "# Page 3 - <a class=\"anchor\" id=\"UIPathL1_page_3\"></a>\n",
    "\n",
    "[Back to Top](#UIPathL1_toc)\n",
    "\n",
    "<hr style=\"height:10px;border-width:0;color:gray;background-color:gray\">"
   ]
  },
  {
   "cell_type": "markdown",
   "id": "89c43e4c-e0a4-4aef-9ff7-e335b41531ee",
   "metadata": {},
   "source": [
    "<hr style=\"height:10px;border-width:0;color:gray;background-color:gray\">\n",
    "\n",
    "# Page 4 - <a class=\"anchor\" id=\"UIPathL1_page_4\"></a>\n",
    "\n",
    "[Back to Top](#UIPathL1_toc)\n",
    "\n",
    "<hr style=\"height:10px;border-width:0;color:gray;background-color:gray\">"
   ]
  },
  {
   "cell_type": "markdown",
   "id": "49a49b35-4402-4a53-84f9-7876547aa208",
   "metadata": {},
   "source": [
    "<hr style=\"height:10px;border-width:0;color:gray;background-color:gray\">\n",
    "\n",
    "# Page 5 - <a class=\"anchor\" id=\"UIPathL1_page_5\"></a>\n",
    "\n",
    "[Back to Top](#UIPathL1_toc)\n",
    "\n",
    "<hr style=\"height:10px;border-width:0;color:gray;background-color:gray\">"
   ]
  },
  {
   "cell_type": "markdown",
   "id": "066cc647-e1fc-437a-8b81-f5f6ddf142a2",
   "metadata": {},
   "source": [
    "<hr style=\"height:10px;border-width:0;color:gray;background-color:gray\">\n",
    "\n",
    "# Page 6 - <a class=\"anchor\" id=\"UIPathL1_page_6\"></a>\n",
    "\n",
    "[Back to Top](#UIPathL1_toc)\n",
    "\n",
    "<hr style=\"height:10px;border-width:0;color:gray;background-color:gray\">"
   ]
  },
  {
   "cell_type": "markdown",
   "id": "75e2ea93-a950-4816-b7e6-66b82e0444fc",
   "metadata": {},
   "source": [
    "<hr style=\"height:10px;border-width:0;color:gray;background-color:gray\">\n",
    "\n",
    "# Page 7 - <a class=\"anchor\" id=\"UIPathL1_page_7\"></a>\n",
    "\n",
    "[Back to Top](#UIPathL1_toc)\n",
    "\n",
    "<hr style=\"height:10px;border-width:0;color:gray;background-color:gray\">"
   ]
  },
  {
   "cell_type": "markdown",
   "id": "0ffa8f06-edc3-4fbf-a60c-ca9ba682d9a9",
   "metadata": {},
   "source": [
    "<hr style=\"height:10px;border-width:0;color:gray;background-color:gray\">\n",
    "\n",
    "# Page 8 - <a class=\"anchor\" id=\"UIPathL1_page_8\"></a>\n",
    "\n",
    "[Back to Top](#UIPathL1_toc)\n",
    "\n",
    "<hr style=\"height:10px;border-width:0;color:gray;background-color:gray\">"
   ]
  },
  {
   "cell_type": "markdown",
   "id": "bf564515-91c5-49f5-97d4-20dd2b134f74",
   "metadata": {},
   "source": [
    "<hr style=\"height:10px;border-width:0;color:gray;background-color:gray\">\n",
    "\n",
    "# Page 9 - <a class=\"anchor\" id=\"UIPathL1_page_9\"></a>\n",
    "\n",
    "[Back to Top](#UIPathL1_toc)\n",
    "\n",
    "<hr style=\"height:10px;border-width:0;color:gray;background-color:gray\">"
   ]
  }
 ],
 "metadata": {
  "kernelspec": {
   "display_name": "Python 3 (ipykernel)",
   "language": "python",
   "name": "python3"
  },
  "language_info": {
   "codemirror_mode": {
    "name": "ipython",
    "version": 3
   },
   "file_extension": ".py",
   "mimetype": "text/x-python",
   "name": "python",
   "nbconvert_exporter": "python",
   "pygments_lexer": "ipython3",
   "version": "3.9.7"
  }
 },
 "nbformat": 4,
 "nbformat_minor": 5
}
